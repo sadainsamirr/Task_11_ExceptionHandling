{
  "nbformat": 4,
  "nbformat_minor": 0,
  "metadata": {
    "colab": {
      "provenance": []
    },
    "kernelspec": {
      "name": "python3",
      "display_name": "Python 3"
    },
    "language_info": {
      "name": "python"
    }
  },
  "cells": [
    {
      "cell_type": "markdown",
      "source": [
        "## Exception Handling\n"
      ],
      "metadata": {
        "id": "ajVfqio_GinI"
      }
    },
    {
      "cell_type": "markdown",
      "source": [
        "###`Q-1`: You are given a function definition. There might be several issues on execution of this function. You are asked to do exception handling for diffrent errors that this function goes in to `without altering this function`. And print error text.\n",
        "\n"
      ],
      "metadata": {
        "id": "0qnQkJtnGozz"
      }
    },
    {
      "cell_type": "markdown",
      "source": [
        "Function parameters `l -> list, s -> could be anything`\n",
        "\n",
        "```\n",
        "def function(l: list, s, **args):\n",
        "    last_element = l[-1]\n",
        "    \n",
        "    l[int(s)]=10\n",
        "    any_element = l[int(s)+10]\n",
        "    l[s]=10\n",
        "    \n",
        "    res = sum(l)\n",
        "    \n",
        "    p = args['p']\n",
        "    # print(p)\n",
        "    return res/last_element * p + any_element\n",
        "\n",
        "```\n",
        "Check for different function calls:-\n",
        "\n",
        "```\n",
        "function([1,2,1], 12)\n",
        "function([1,2,1]*9, '1-2')\n",
        "function([1,'2',1]*9, 12)\n",
        "function([1,'2',1]*9, 12)\n",
        "function([1,2,0]*9, 12  )\n",
        "function([1,2,1]*9, 12, p=None)\n",
        "function([1,2,0]*9, 12, p=10)\n",
        "```"
      ],
      "metadata": {
        "id": "2no_EB2fGyGq"
      }
    },
    {
      "cell_type": "code",
      "source": [
        "# Write code here\n",
        "def function(l: list, s, **args):\n",
        "    last_element = l[-1]\n",
        "\n",
        "    l[int(s)]=10\n",
        "    any_element = l[int(s)+10]\n",
        "    l[s]=10\n",
        "\n",
        "    res = sum(l)\n",
        "\n",
        "    p = args['p']\n",
        "    # print(p)\n",
        "    return res/last_element * p + any_element\n",
        "try:\n",
        "  res = function([1,2,1]*9, 12, p=10)\n",
        "except IndexError as e:\n",
        "  print(type(e))\n",
        "  print(e)\n",
        "\n",
        "except ValueError as f:\n",
        "  print(type(f))\n",
        "  print(f)\n",
        "\n",
        "except TypeError as t:\n",
        "  print(type(t))\n",
        "  print(t)\n",
        "\n",
        "except KeyError as k:\n",
        "  print(type(k))\n",
        "  print(k)\n",
        "\n",
        "except ZeroDivisionError as z:\n",
        "  print(type(z))\n",
        "  print(z)\n",
        "\n",
        "else:\n",
        "  print(res)\n",
        "finally:\n",
        "  print(\"thankyou\")"
      ],
      "metadata": {
        "id": "VoaL4_9eGjFU",
        "colab": {
          "base_uri": "https://localhost:8080/"
        },
        "outputId": "8e31e0b1-bc82-4092-a897-42eee0c3e7f1"
      },
      "execution_count": 11,
      "outputs": [
        {
          "output_type": "stream",
          "name": "stdout",
          "text": [
            "452.0\n",
            "thankyou\n"
          ]
        }
      ]
    },
    {
      "cell_type": "markdown",
      "source": [
        "###`Q-2:` You are given a code snippet. There might be several issues on execution of this code. You are asked to do exception handling for diffrent errors, condition is what ever happens we need to execute last line printing correct result of `sum of elements`.\n",
        "\n",
        "List have elemnts as any no of  `key-pair dict with key as list index and value as any integer`, `integers` and `numeric-strings`. There is always only one element in the dict.\n",
        "\n",
        "\n",
        "```\n",
        "l = [{0:2},2,3,4,'5', {5:10}]\n",
        "# For calculating sum of above list\n",
        "s=0\n",
        "for i in range(len(l)):\n",
        "    #You can Edit code from here\n",
        "    s += l[i].get(i)\n",
        "    s += l[i]\n",
        "    s += int(l[i])\n",
        "\n",
        "\n",
        "print(s)\n",
        "```"
      ],
      "metadata": {
        "id": "HuLMy2fVG9sL"
      }
    },
    {
      "cell_type": "code",
      "source": [
        "# Write code here\n",
        "l = [{0:2},2,3,4,'5', {5:10}]\n",
        "# For calculating sum of above list\n",
        "s=0\n",
        "for i in range(len(l)):\n",
        "    #You can Edit code from here\n",
        "    try:\n",
        "      s+=l[i]\n",
        "    except TypeError:\n",
        "      try:\n",
        "        s+=l[i].get(i)\n",
        "      except AttributeError:\n",
        "        s+=int(l[i])\n",
        "print(s)"
      ],
      "metadata": {
        "id": "pEP8JU0qHAf8",
        "colab": {
          "base_uri": "https://localhost:8080/"
        },
        "outputId": "9ae9d37d-09ff-4b50-d914-058753fed255"
      },
      "execution_count": 17,
      "outputs": [
        {
          "output_type": "stream",
          "name": "stdout",
          "text": [
            "26\n"
          ]
        }
      ]
    },
    {
      "cell_type": "markdown",
      "source": [
        "### `Q-3:`: File Handling with Exception handling\n",
        "\n",
        "Write a program that opens a text file and write data to it as \"Hello, Good Morning!!!\". Handle exceptions that can be generated during the I/O operations. Do not show the success message on the main exception handling block (write inside the else block)."
      ],
      "metadata": {
        "id": "ohE2fDTXHIan"
      }
    },
    {
      "cell_type": "code",
      "source": [
        "try:\n",
        "  with open(\"textFile.txt\", 'w') as f:\n",
        "    f.write(\"Hello, Good Morning!!!\")\n",
        "except IOError:\n",
        "  print(\"Error working with file\")\n",
        "else:\n",
        "  print(\"file written successfully\")"
      ],
      "metadata": {
        "id": "iOeiWrcIHPlY",
        "colab": {
          "base_uri": "https://localhost:8080/"
        },
        "outputId": "f07d3b53-6df1-4c7f-9130-1d7f5a863075"
      },
      "execution_count": 21,
      "outputs": [
        {
          "output_type": "stream",
          "name": "stdout",
          "text": [
            "file written successfully\n"
          ]
        }
      ]
    },
    {
      "cell_type": "markdown",
      "source": [
        "### `Q-4`: Number game program.\n",
        "\n",
        "Write a number game program. Ask the user to enter a number. If the number is greater than number to be guessed, raise a **ValueTooLarge** exception. If the value is smaller the number to be guessed the, raise a **ValueTooSmall** exception and prompt the user to enter again. Quit the program only when the user enters the correct number. Also raise **GuessError** if user guess a number less than 1."
      ],
      "metadata": {
        "id": "ru8g8-_bHTUf"
      }
    },
    {
      "cell_type": "code",
      "source": [
        "import random\n",
        "class ValueTooLarge(Exception):\n",
        "  def display(self):\n",
        "    print(\"input value is too large \")\n",
        "class ValueTooSmall(Exception):\n",
        "  def display(self):\n",
        "    print(\"input value too small \")\n",
        "class GuessError(Exception):\n",
        "  def display(self):\n",
        "    print('guess the number between 1 and 100 ')\n",
        "\n",
        "num = random.randint(1, 100)\n",
        "while 1:\n",
        "  try:\n",
        "    guess = int(input(\"enter a number : \"))\n",
        "\n",
        "    if guess < 1:\n",
        "      raise GuessError\n",
        "    elif guess == num:\n",
        "      print(\"well done \")\n",
        "      break\n",
        "    elif guess<num:\n",
        "      raise ValueTooSmall\n",
        "    elif guess>num:\n",
        "      raise ValueTooLarge\n",
        "  except ValueTooSmall as s:\n",
        "    s.display()\n",
        "  except ValueTooLarge as l:\n",
        "    l.display()\n",
        "  except GuessError as g:\n",
        "    l.display()"
      ],
      "metadata": {
        "id": "QftlN5LJHZSX",
        "colab": {
          "base_uri": "https://localhost:8080/"
        },
        "outputId": "bf9ca69f-c0b3-4b91-d7e8-4f74f93bb08a"
      },
      "execution_count": 23,
      "outputs": [
        {
          "output_type": "stream",
          "name": "stdout",
          "text": [
            "enter a number : 45\n",
            "input value too small \n",
            "enter a number : 66\n",
            "input value too small \n",
            "enter a number : 88\n",
            "input value is too large \n",
            "enter a number : 76\n",
            "input value is too large \n",
            "enter a number : 60\n",
            "input value too small \n",
            "enter a number : 67\n",
            "well done \n"
          ]
        }
      ]
    },
    {
      "cell_type": "markdown",
      "source": [
        "### `Q-5:` Cast vote\n",
        "\n",
        "Write a program that validate name and age as entered by the user to determine whether the person can cast vote or not. To handle the age, create **InvalidAge** exception and for name, create **InvalidName** exception. The name will be invalid when the string will be empty or name has only one word.\n",
        "\n",
        "Example 1:\n",
        "\n",
        "Input:\n",
        "\n",
        "```bash\n",
        "Enter the name:               goransh singh\n",
        "Enter the age: 25\n",
        "```\n",
        "\n",
        "Output:\n",
        "\n",
        "```bash\n",
        "Goransh Singh  Congratulation !!! You can vote.\n",
        "```"
      ],
      "metadata": {
        "id": "ZsGI_40fHcsd"
      }
    },
    {
      "cell_type": "code",
      "source": [
        "class InvalidAge(Exception):\n",
        "  def display(self):\n",
        "    print(\"sorry you are not old enough\")\n",
        "class InvalidName(Exception):\n",
        "  def display(self):\n",
        "    print(\"enter valid name\")\n",
        "\n",
        "try:\n",
        "  name = input(\"enter a name: \")\n",
        "  if len(name) == 0 or len(name.split())<2:\n",
        "    raise InvalidName\n",
        "\n",
        "  age = int(input(\"enter your age \"))\n",
        "  if age < 18:\n",
        "    raise InvalidAge\n",
        "except InvalidName as i:\n",
        "  i.display()\n",
        "except InvalidAge as a:\n",
        "  a.display()\n",
        "else:\n",
        "  print(\"congrats, your vote is accepted\")\n",
        "finally:\n",
        "  print(\"well done\")"
      ],
      "metadata": {
        "id": "OHL3UiS4Hi3U",
        "colab": {
          "base_uri": "https://localhost:8080/"
        },
        "outputId": "06ef938f-568d-4749-a3b3-12e3d950d4b6"
      },
      "execution_count": 26,
      "outputs": [
        {
          "output_type": "stream",
          "name": "stdout",
          "text": [
            "enter a name: sadain samir khan\n",
            "enter your age 19\n",
            "congrats, your vote is accepted\n",
            "well done\n"
          ]
        }
      ]
    },
    {
      "cell_type": "markdown",
      "source": [
        "### `Q-6`: Write a python function which infinitely prints natural numbers in a single line. Raise the **StopIteration** exception after displaying first 20 numnbers to exit from the program."
      ],
      "metadata": {
        "id": "SCvs0QjgHlOG"
      }
    },
    {
      "cell_type": "code",
      "source": [
        "# Write code here\n",
        "def display(n):\n",
        "  i = 0\n",
        "  while True:\n",
        "    try:\n",
        "      n+=1\n",
        "      i+=1\n",
        "      if i==20:\n",
        "        raise StopIteration\n",
        "    except StopIteration:\n",
        "      break\n",
        "    else:\n",
        "      print(n, end = \" \")\n",
        "display(1)"
      ],
      "metadata": {
        "id": "Lc5ilNgNHoSx",
        "colab": {
          "base_uri": "https://localhost:8080/"
        },
        "outputId": "71dce13b-6695-4e59-fef6-1c36143e01ca"
      },
      "execution_count": 28,
      "outputs": [
        {
          "output_type": "stream",
          "name": "stdout",
          "text": [
            "2 3 4 5 6 7 8 9 10 11 12 13 14 15 16 17 18 19 20 "
          ]
        }
      ]
    },
    {
      "cell_type": "code",
      "source": [],
      "metadata": {
        "id": "DDhthYVPI8pL"
      },
      "execution_count": null,
      "outputs": []
    }
  ]
}